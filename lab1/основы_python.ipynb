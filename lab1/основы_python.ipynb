{
 "cells": [
  {
   "cell_type": "markdown",
   "metadata": {
    "id": "M-DGa20PaHnu"
   },
   "source": [
    "#Задача 1\n",
    "Написать функцию на вход которой подается строка, состоящая из латинских букв.\n",
    "Функция должна вернуть количество гласных букв (a, e, i, o, u) в этой строке. Написать тесты для кода"
   ]
  },
  {
   "cell_type": "code",
   "execution_count": 1,
   "metadata": {
    "id": "XvX8X_JJ6PCb"
   },
   "outputs": [
    {
     "name": "stdout",
     "output_type": "stream",
     "text": [
      "Все тесты пройдены успешно!\n"
     ]
    }
   ],
   "source": [
    "def count_vowels(string):\n",
    "    vowels = 'aeiouAEIOU'\n",
    "    count = 0\n",
    "    for char in string:\n",
    "        if char in vowels:\n",
    "            count += 1\n",
    "    return count\n",
    "\n",
    "# Тесты для функции count_vowels\n",
    "def test_count_vowels():\n",
    "    # Тест с пустой строкой\n",
    "    assert count_vowels(\"\") == 0\n",
    "    # Тест с строкой, содержащей только гласные буквы\n",
    "    assert count_vowels(\"aeiou\") == 5\n",
    "    # Тест с строкой, содержащей только согласные буквы\n",
    "    assert count_vowels(\"bcdfghjklmnpqrstvwxyz\") == 0\n",
    "    # Тест с строкой, содержащей и гласные, и согласные буквы\n",
    "    assert count_vowels(\"hello\") == 2\n",
    "    # Тест с строкой, содержащей различные гласные буквы в разном количестве\n",
    "    assert count_vowels(\"abracadabra\") == 5\n",
    "    # Тест с строкой, содержащей гласные буквы в верхнем регистре\n",
    "    assert count_vowels(\"AEIOU\") == 5\n",
    "    # Тест с строкой, содержащей гласные буквы в разных регистрах\n",
    "    assert count_vowels(\"aEiOu\") == 5\n",
    "\n",
    "    print(\"Все тесты пройдены успешно!\")\n",
    "\n",
    "# Запуск тестов\n",
    "test_count_vowels()\n"
   ]
  },
  {
   "cell_type": "markdown",
   "metadata": {
    "id": "t2ClV_Y0bbr6"
   },
   "source": [
    "# Задача 2\n",
    "Написать функцию на вход, которой подается строка. Функция должна вернуть true, если\n",
    "каждый символ в строке встречается только 1 раз, иначе должна вернуть false. Написать тесты для кода"
   ]
  },
  {
   "cell_type": "code",
   "execution_count": 10,
   "metadata": {
    "id": "FppbECao6VIz"
   },
   "outputs": [
    {
     "name": "stdout",
     "output_type": "stream",
     "text": [
      "Все тесты пройдены успешно!\n"
     ]
    }
   ],
   "source": [
    "def all_unique_chars(string):\n",
    "    seen = set()\n",
    "    for char in string:\n",
    "        if char == ' ':\n",
    "            continue\n",
    "        if char in seen:\n",
    "            return False\n",
    "        seen.add(char)\n",
    "\n",
    "    return True\n",
    "\n",
    "\n",
    "def test_all_unique_chars():\n",
    "    # Тест с пустой строкой\n",
    "    assert all_unique_chars(\"\") == True\n",
    "    assert all_unique_chars(\"a\") == True\n",
    "    assert all_unique_chars(\"abcdefg\") == True\n",
    "    assert all_unique_chars(\"hello\") == False\n",
    "    assert all_unique_chars(\"AbCdEfG\") == True\n",
    "    assert all_unique_chars(\"abc def\") == True\n",
    "    print(\"Все тесты пройдены успешно!\")\n",
    "\n",
    "\n",
    "test_all_unique_chars()"
   ]
  },
  {
   "cell_type": "markdown",
   "metadata": {
    "id": "udRiIK1cdt6E"
   },
   "source": [
    "# Задача 3\n",
    "Написать функцию, которая принимает положительное число и возвращает количество\n",
    "бит равных 1 в этом числе. Написать тесты для кода"
   ]
  },
  {
   "cell_type": "code",
   "execution_count": 11,
   "metadata": {
    "id": "6tkfDJRz6dp_"
   },
   "outputs": [
    {
     "name": "stdout",
     "output_type": "stream",
     "text": [
      "Все тесты пройдены успешно!\n"
     ]
    }
   ],
   "source": [
    "def count_bits(num):\n",
    "    count = 0\n",
    "    while num:\n",
    "        count += num & 1\n",
    "        num >>= 1\n",
    "    return count\n",
    "\n",
    "\n",
    "def test_count_bits():\n",
    "    assert count_bits(0) == 0\n",
    "    assert count_bits(1) == 1\n",
    "    assert count_bits(2) == 1\n",
    "    assert count_bits(5) == 2\n",
    "    assert count_bits(15) == 4\n",
    "    assert count_bits(255) == 8\n",
    "    assert count_bits(123456789) == 16\n",
    "\n",
    "    print(\"Все тесты пройдены успешно!\")\n",
    "\n",
    "    \n",
    "test_count_bits()"
   ]
  },
  {
   "cell_type": "markdown",
   "metadata": {
    "id": "26dDUz-Ae17N"
   },
   "source": [
    "# Задача 4\n",
    "Написать функцию, которая принимает положительное число. Функция должна вернуть то,\n",
    "сколько раз необходимо перемножать цифры числа или результат перемножения, чтобы\n",
    "получилось число состоящее из одной цифры.\n",
    "Например, для входного числа:\n",
    "· 39 функция должна вернуть 3, так как 3*9=27 => 2*7=14 => 1*4=4\n",
    "· 4 функция должна вернуть 0, так как число уже состоит из одной цифры\n",
    "· 999 функция должна вернуть 4, так как 9*9*9=729 => 7*2*9=126 => 1*2*6=12 =>\n",
    "1*2=2. Написать тесты для кода"
   ]
  },
  {
   "cell_type": "code",
   "execution_count": 16,
   "metadata": {
    "id": "BH1A_Mgi6i4G"
   },
   "outputs": [
    {
     "name": "stdout",
     "output_type": "stream",
     "text": [
      "Все тесты пройдены успешно!\n"
     ]
    }
   ],
   "source": [
    "def magic(n):\n",
    "    def multiply_digits(num):\n",
    "        result = 1\n",
    "        while num:\n",
    "            result *= num % 10\n",
    "            num //= 10\n",
    "        return result\n",
    "    \n",
    "    if n < 10:\n",
    "        return 0\n",
    "    else:\n",
    "        count = 0\n",
    "        while n >= 10:\n",
    "            n = multiply_digits(n)\n",
    "            count += 1\n",
    "        return count\n",
    "\n",
    "\n",
    "def test_magic():\n",
    "    assert magic(39) == 3\n",
    "    assert magic(4) == 0\n",
    "    assert magic(999) == 4\n",
    "    assert magic(123456789) == 2\n",
    "    assert magic(11111) == 1\n",
    "    print(\"Все тесты пройдены успешно!\")\n",
    "\n",
    "\n",
    "test_magic()"
   ]
  },
  {
   "cell_type": "markdown",
   "metadata": {
    "id": "0nS-kIa8g8vd"
   },
   "source": [
    "# Задача 5\n",
    "Написать функцию, которая принимает два целочисленных вектора одинаковой длины и\n",
    "возвращает среднеквадратическое отклонение двух векторов. Написать тесты для кода"
   ]
  },
  {
   "cell_type": "code",
   "execution_count": 19,
   "metadata": {
    "id": "8iphx4LM6xbx"
   },
   "outputs": [
    {
     "name": "stdout",
     "output_type": "stream",
     "text": [
      "Все тесты пройдены успешно!\n"
     ]
    }
   ],
   "source": [
    "import math\n",
    "\n",
    "\n",
    "def mse(pred, true):\n",
    "    if len(pred) != len(true):\n",
    "        return 'Вектора должны быть одинаковой длины'\n",
    "    elif len(pred) == 0:\n",
    "        return 0.0\n",
    "    else:\n",
    "        squared_diff_sum = sum((x - y)**2 for x, y in zip(pred, true))\n",
    "        mean_squared_diff = squared_diff_sum / len(pred)\n",
    "        std_deviation = math.sqrt(mean_squared_diff)\n",
    "        return std_deviation\n",
    "\n",
    "\n",
    "def test_mse():\n",
    "    assert mse([1, 2, 3], [1, 2, 3]) == 0.0\n",
    "    assert mse([1, 2, 3], [4, 5, 6]) == math.sqrt(9.0)\n",
    "    assert mse([], []) == 0.0\n",
    "    assert mse([1, 2, 3], [1, 2]) == 'Вектора должны быть одинаковой длины'\n",
    "\n",
    "    print(\"Все тесты пройдены успешно!\")\n",
    "\n",
    "test_mse()"
   ]
  },
  {
   "cell_type": "markdown",
   "metadata": {
    "id": "vpIPKL439zkw"
   },
   "source": [
    "# Задача 6\n",
    "Написать функцию, принимающая целое положительное число. Функция должна вернуть\n",
    "строку вида “(n1**p1)(n2**p2)…(nk**pk)” представляющая разложение числа на простые\n",
    "множители (если pi == 1, то выводить только ni).\n",
    "Например, для числа 86240 функция должна вернуть “(2**5)(5)(7**2)(11)”. Написать тесты для кода"
   ]
  },
  {
   "cell_type": "code",
   "execution_count": 20,
   "metadata": {
    "id": "pFebmcZk94Jw"
   },
   "outputs": [
    {
     "name": "stdout",
     "output_type": "stream",
     "text": [
      "Все тесты пройдены успешно!\n"
     ]
    }
   ],
   "source": [
    "def prime_factors(n):\n",
    "    factors = []\n",
    "    divisor = 2\n",
    "    while n > 1:\n",
    "        power = 0\n",
    "        while n % divisor == 0:\n",
    "            n //= divisor\n",
    "            power += 1\n",
    "        if power > 0:\n",
    "            factors.append((divisor, power) if power > 1 else divisor)\n",
    "        divisor += 1\n",
    "    return factors\n",
    "\n",
    "def format_factors(factors):\n",
    "    formatted_factors = []\n",
    "    for factor in factors:\n",
    "        if isinstance(factor, tuple):\n",
    "            formatted_factors.append(f\"({factor[0]}**{factor[1]})\")\n",
    "        else:\n",
    "            formatted_factors.append(f\"({factor})\")\n",
    "    return ''.join(formatted_factors)\n",
    "\n",
    "def factorize_number(n):\n",
    "    factors = prime_factors(n)\n",
    "    return format_factors(factors)\n",
    "\n",
    "\n",
    "def test_factorize_number():\n",
    "    assert factorize_number(86240) == \"(2**5)(5)(7**2)(11)\"\n",
    "    assert factorize_number(25) == \"(5**2)\"\n",
    "    assert factorize_number(27) == \"(3**3)\"\n",
    "    assert factorize_number(123456789) == \"(3**2)(3607)(3803)\"\n",
    "    assert factorize_number(1) == \"\"\n",
    "    print(\"Все тесты пройдены успешно!\")\n",
    "\n",
    "\n",
    "test_factorize_number()"
   ]
  },
  {
   "cell_type": "markdown",
   "metadata": {
    "id": "ps2s0BudX7A2"
   },
   "source": [
    "# Задача 7\n",
    "Написать функцию, принимающая целое число n, задающее количество кубиков. Функция\n",
    "должна определить, можно ли из данного кол-ва кубиков построить пирамиду, то есть\n",
    "можно ли представить число n как 1^2+2^2+3^2+…+k^2. Если можно, то функция должна\n",
    "вернуть k, иначе строку “It is impossible”. Написать тесты для кода"
   ]
  },
  {
   "cell_type": "code",
   "execution_count": 21,
   "metadata": {
    "id": "3YPjEXxhX_YT"
   },
   "outputs": [
    {
     "name": "stdout",
     "output_type": "stream",
     "text": [
      "Все тесты пройдены успешно!\n"
     ]
    }
   ],
   "source": [
    "def build_pyramid(n):\n",
    "    k = 1\n",
    "    sum_of_squares = 0\n",
    "    while sum_of_squares < n:\n",
    "        sum_of_squares += k ** 2\n",
    "        if sum_of_squares == n:\n",
    "            return k\n",
    "        k += 1\n",
    "    return \"It is impossible\"\n",
    "\n",
    "\n",
    "def test_build_pyramid():\n",
    "    # Тест с числом 30 (1^2 + 2^2 + 3^2 + 4^2 = 30)\n",
    "    assert build_pyramid(30) == 4\n",
    "    # Тест с числом 14 (1^2 + 2^2 + 3^2 = 14)\n",
    "    assert build_pyramid(14) == 3\n",
    "    # Тест с числом 12 (невозможно представить как сумму квадратов последовательных чисел)\n",
    "    assert build_pyramid(12) == \"It is impossible\"\n",
    "    assert build_pyramid(0) == \"It is impossible\"\n",
    "    assert build_pyramid(-10) == \"It is impossible\"\n",
    "\n",
    "    print(\"Все тесты пройдены успешно!\")\n",
    "\n",
    "\n",
    "test_build_pyramid()"
   ]
  },
  {
   "cell_type": "markdown",
   "metadata": {
    "id": "KeKgmIdAQMEJ"
   },
   "source": [
    "# Задача 8\n",
    "Функция принимает на вход положительное число и определяет является ли оно сбалансированным, т.е. сумма цифр до средних равна сумме цифр после. Средними в случае нечетного числа цифр считать одну цифру, в случае четного - две средних. Написать тесты для кода"
   ]
  },
  {
   "cell_type": "code",
   "execution_count": 26,
   "metadata": {
    "id": "gMAAqtqlQrZt"
   },
   "outputs": [
    {
     "name": "stdout",
     "output_type": "stream",
     "text": [
      "Все тесты пройдены успешно!\n"
     ]
    }
   ],
   "source": [
    "def balanced(n):\n",
    "    num_str = str(n)\n",
    "    length = len(num_str)\n",
    "    middle = length // 2\n",
    "    \n",
    "    if length % 2 == 0:\n",
    "        sum_left_nums = int(sum(int(num) for num in num_str[:middle])) \n",
    "        sum_right_nums = int(sum(int(num) for num in num_str[middle:]))\n",
    "    else: \n",
    "        sum_left_nums = int(sum(int(num) for num in num_str[:middle])) \n",
    "        sum_right_nums = int(sum(int(num) for num in num_str[middle+1:])) \n",
    "    \n",
    "    return sum_left_nums == sum_right_nums\n",
    "                             \n",
    "                             \n",
    "def test_is_balanced_number():\n",
    "    # Тест с сбалансированным числом\n",
    "    assert balanced(12321) == True\n",
    "    # Тест с несбалансированным числом\n",
    "    assert balanced(12345) == False\n",
    "    # Тест с числом, состоящим из одной цифры\n",
    "    assert balanced(7) == True\n",
    "    # Тест с числом, состоящим из двух цифр\n",
    "    assert balanced(33) == True\n",
    "    # Тест с числом, состоящим из трех цифр\n",
    "    assert balanced(111) == True\n",
    "    # Тест с числом, состоящим из четырех цифр\n",
    "    assert balanced(1001) == True\n",
    "    # Тест с четным числом\n",
    "    assert balanced(100) == False\n",
    "    # Еще один тест с четным числом\n",
    "    assert balanced(1221) == True\n",
    "\n",
    "    print(\"Все тесты пройдены успешно!\")\n",
    "\n",
    "\n",
    "test_is_balanced_number()"
   ]
  },
  {
   "cell_type": "code",
   "execution_count": null,
   "metadata": {},
   "outputs": [],
   "source": []
  }
 ],
 "metadata": {
  "colab": {
   "provenance": []
  },
  "kernelspec": {
   "display_name": "Python 3 (ipykernel)",
   "language": "python",
   "name": "python3"
  },
  "language_info": {
   "codemirror_mode": {
    "name": "ipython",
    "version": 3
   },
   "file_extension": ".py",
   "mimetype": "text/x-python",
   "name": "python",
   "nbconvert_exporter": "python",
   "pygments_lexer": "ipython3",
   "version": "3.11.5"
  }
 },
 "nbformat": 4,
 "nbformat_minor": 1
}
