{
 "cells": [
  {
   "cell_type": "markdown",
   "id": "3085ec43-34bb-4afb-9515-517e0489db3e",
   "metadata": {},
   "source": [
    "## Ансамбли и полносвязные нейронные сети\n",
    "В этом ноутбуке вам нужно обучить модели на датасете классификации из предыдущего ноутбука и сравнить результаты. Вам будет предоставлен baseline, на основе которого вы будете доделывать предсказывающие модели. Оценка лабы будет зависеть от ROC-AUC на тестовых данных по следующим критериям:\n",
    "\\\n",
    "AUC - на тестовых данных\n",
    "- $AUC \\leq 0.76$ - 0 баллов\n",
    "- $0.76 < AUC \\leq 0.77$ - 2 балла\n",
    "- $0.77 < AUC \\leq 0.78$ - 4 балла\n",
    "- $0.78 < AUC \\leq 0.79$ - 6 баллов\n",
    "- $0.79 < AUC \\leq 0.80$ - 8 баллов\n",
    "- $AUC > 0.80$ - 10 баллов\n"
   ]
  },
  {
   "cell_type": "code",
   "execution_count": 2,
   "id": "9b81f84a",
   "metadata": {},
   "outputs": [
    {
     "name": "stdout",
     "output_type": "stream",
     "text": [
      "Collecting scikit-networkNote: you may need to restart the kernel to use updated packages.\n",
      "\n",
      "  Obtaining dependency information for scikit-network from https://files.pythonhosted.org/packages/f2/3b/d974ffa8ac2c05b281619d985885f9142f752215a2a97375bbbb651da942/scikit_network-0.32.1-cp311-cp311-win_amd64.whl.metadata\n",
      "  Downloading scikit_network-0.32.1-cp311-cp311-win_amd64.whl.metadata (14 kB)\n",
      "Requirement already satisfied: numpy>=1.22.4 in c:\\users\\acer\\anaconda3\\lib\\site-packages (from scikit-network) (1.24.3)\n",
      "Requirement already satisfied: scipy>=1.7.3 in c:\\users\\acer\\anaconda3\\lib\\site-packages (from scikit-network) (1.11.1)\n",
      "Downloading scikit_network-0.32.1-cp311-cp311-win_amd64.whl (2.7 MB)\n",
      "   ---------------------------------------- 0.0/2.7 MB ? eta -:--:--\n",
      "    --------------------------------------- 0.1/2.7 MB 1.1 MB/s eta 0:00:03\n",
      "   -- ------------------------------------- 0.2/2.7 MB 1.3 MB/s eta 0:00:02\n",
      "   --- ------------------------------------ 0.3/2.7 MB 1.4 MB/s eta 0:00:02\n",
      "   ---- ----------------------------------- 0.3/2.7 MB 1.4 MB/s eta 0:00:02\n",
      "   ----- ---------------------------------- 0.4/2.7 MB 1.3 MB/s eta 0:00:02\n",
      "   ------ --------------------------------- 0.4/2.7 MB 1.3 MB/s eta 0:00:02\n",
      "   ------ --------------------------------- 0.5/2.7 MB 1.3 MB/s eta 0:00:02\n",
      "   ------- -------------------------------- 0.5/2.7 MB 1.3 MB/s eta 0:00:02\n",
      "   -------- ------------------------------- 0.6/2.7 MB 1.3 MB/s eta 0:00:02\n",
      "   --------- ------------------------------ 0.6/2.7 MB 1.3 MB/s eta 0:00:02\n",
      "   ---------- ----------------------------- 0.7/2.7 MB 1.3 MB/s eta 0:00:02\n",
      "   ----------- ---------------------------- 0.8/2.7 MB 1.3 MB/s eta 0:00:02\n",
      "   ------------ --------------------------- 0.8/2.7 MB 1.3 MB/s eta 0:00:02\n",
      "   ------------- -------------------------- 0.9/2.7 MB 1.3 MB/s eta 0:00:02\n",
      "   -------------- ------------------------- 1.0/2.7 MB 1.3 MB/s eta 0:00:02\n",
      "   -------------- ------------------------- 1.0/2.7 MB 1.3 MB/s eta 0:00:02\n",
      "   --------------- ------------------------ 1.1/2.7 MB 1.3 MB/s eta 0:00:02\n",
      "   ---------------- ----------------------- 1.1/2.7 MB 1.3 MB/s eta 0:00:02\n",
      "   ----------------- ---------------------- 1.2/2.7 MB 1.3 MB/s eta 0:00:02\n",
      "   ------------------ --------------------- 1.3/2.7 MB 1.3 MB/s eta 0:00:02\n",
      "   ------------------- -------------------- 1.3/2.7 MB 1.3 MB/s eta 0:00:02\n",
      "   -------------------- ------------------- 1.4/2.7 MB 1.3 MB/s eta 0:00:02\n",
      "   --------------------- ------------------ 1.5/2.7 MB 1.3 MB/s eta 0:00:01\n",
      "   ---------------------- ----------------- 1.5/2.7 MB 1.3 MB/s eta 0:00:01\n",
      "   ----------------------- ---------------- 1.6/2.7 MB 1.3 MB/s eta 0:00:01\n",
      "   ------------------------ --------------- 1.7/2.7 MB 1.3 MB/s eta 0:00:01\n",
      "   ------------------------- -------------- 1.7/2.7 MB 1.3 MB/s eta 0:00:01\n",
      "   -------------------------- ------------- 1.8/2.7 MB 1.3 MB/s eta 0:00:01\n",
      "   --------------------------- ------------ 1.9/2.7 MB 1.3 MB/s eta 0:00:01\n",
      "   ---------------------------- ----------- 1.9/2.7 MB 1.3 MB/s eta 0:00:01\n",
      "   ----------------------------- ---------- 2.0/2.7 MB 1.4 MB/s eta 0:00:01\n",
      "   ------------------------------ --------- 2.1/2.7 MB 1.4 MB/s eta 0:00:01\n",
      "   -------------------------------- ------- 2.2/2.7 MB 1.4 MB/s eta 0:00:01\n",
      "   --------------------------------- ------ 2.3/2.7 MB 1.4 MB/s eta 0:00:01\n",
      "   --------------------------------- ------ 2.3/2.7 MB 1.4 MB/s eta 0:00:01\n",
      "   ---------------------------------- ----- 2.4/2.7 MB 1.4 MB/s eta 0:00:01\n",
      "   ----------------------------------- ---- 2.4/2.7 MB 1.4 MB/s eta 0:00:01\n",
      "   ------------------------------------- -- 2.5/2.7 MB 1.4 MB/s eta 0:00:01\n",
      "   -------------------------------------- - 2.6/2.7 MB 1.4 MB/s eta 0:00:01\n",
      "   ---------------------------------------  2.7/2.7 MB 1.4 MB/s eta 0:00:01\n",
      "   ---------------------------------------  2.7/2.7 MB 1.4 MB/s eta 0:00:01\n",
      "   ---------------------------------------  2.7/2.7 MB 1.4 MB/s eta 0:00:01\n",
      "   ---------------------------------------- 2.7/2.7 MB 1.3 MB/s eta 0:00:00\n",
      "Installing collected packages: scikit-network\n",
      "Successfully installed scikit-network-0.32.1\n"
     ]
    }
   ],
   "source": [
    "pip install scikit-network"
   ]
  },
  {
   "cell_type": "code",
   "execution_count": 3,
   "id": "ec07e3a2-480a-4350-868e-02679ff2aada",
   "metadata": {
    "tags": []
   },
   "outputs": [],
   "source": [
    "from sklearn.ensemble import RandomForestClassifier, GradientBoostingClassifier\n",
    "from sklearn.neural_network import MLPClassifier\n",
    "\n",
    "from sklearn.metrics import roc_auc_score, precision_score, recall_score, roc_curve, accuracy_score\n",
    "\n",
    "from sklearn.model_selection import train_test_split\n",
    "\n",
    "import matplotlib.pyplot as plt\n",
    "import pandas as pd\n",
    "import numpy as np"
   ]
  },
  {
   "cell_type": "code",
   "execution_count": 133,
   "id": "563ad31b-5c83-4366-819a-34dad4edecdc",
   "metadata": {
    "tags": []
   },
   "outputs": [
    {
     "name": "stdout",
     "output_type": "stream",
     "text": [
      "   Creditability  Account_Balance  Duration_of_Credit_monthly  \\\n",
      "0              1                1                          18   \n",
      "1              1                1                           9   \n",
      "2              1                2                          12   \n",
      "3              1                1                          12   \n",
      "4              1                1                          12   \n",
      "\n",
      "   Payment_Status_of_Previous_Credit  Purpose  Credit_Amount  \\\n",
      "0                                  4        2           1049   \n",
      "1                                  4        0           2799   \n",
      "2                                  2        9            841   \n",
      "3                                  4        0           2122   \n",
      "4                                  4        0           2171   \n",
      "\n",
      "   Value_Savings_Stocks  Length_of_current_employment  Instalment_per_cent  \\\n",
      "0                     1                             2                    4   \n",
      "1                     1                             3                    2   \n",
      "2                     2                             4                    2   \n",
      "3                     1                             3                    3   \n",
      "4                     1                             3                    4   \n",
      "\n",
      "   Sex_Marital_Status  ...  Duration_in_Current_address  \\\n",
      "0                   2  ...                            4   \n",
      "1                   3  ...                            2   \n",
      "2                   2  ...                            4   \n",
      "3                   3  ...                            2   \n",
      "4                   3  ...                            4   \n",
      "\n",
      "   Most_valuable_available_asset  Age_years  Concurrent_Credits  \\\n",
      "0                              2         21                   3   \n",
      "1                              1         36                   3   \n",
      "2                              1         23                   3   \n",
      "3                              1         39                   3   \n",
      "4                              2         38                   1   \n",
      "\n",
      "   Type_of_apartment  No_of_Credits_at_this_Bank  Occupation  \\\n",
      "0                  1                           1           3   \n",
      "1                  1                           2           3   \n",
      "2                  1                           1           2   \n",
      "3                  1                           2           2   \n",
      "4                  2                           2           2   \n",
      "\n",
      "   No_of_dependents  Telephone  Foreign_Worker  \n",
      "0                 1          1               1  \n",
      "1                 2          1               1  \n",
      "2                 1          1               1  \n",
      "3                 2          1               2  \n",
      "4                 1          1               2  \n",
      "\n",
      "[5 rows x 21 columns]\n"
     ]
    }
   ],
   "source": [
    "data = pd.read_csv('german.csv', sep=';')\n",
    "print(data.head())\n",
    "\n",
    "X = data.iloc[:, 1:].to_numpy()\n",
    "y = data.iloc[:, 0].to_numpy()\n",
    "\n",
    "X_train, X_test, y_train, y_test = train_test_split(X, y, test_size=0.01, random_state=300)"
   ]
  },
  {
   "cell_type": "code",
   "execution_count": 138,
   "id": "f93737ec-e5eb-4d72-8beb-5dba4d4c581f",
   "metadata": {
    "tags": []
   },
   "outputs": [
    {
     "data": {
      "image/png": "[encoded data removed]",
      "text/plain": [
       "<Figure size 640x480 with 1 Axes>"
      ]
     },
     "metadata": {},
     "output_type": "display_data"
    }
   ],
   "source": [
    "plt.hist(y_train, bins=2, edgecolor='k')\n",
    "plt.xticks([0, 1])\n",
    "plt.xlabel('Class (0: Non-Creditworthy, 1: Creditworthy)')\n",
    "plt.ylabel('Count')\n",
    "plt.title('Distribution of Classes in Training Data')\n",
    "plt.show()"
   ]
  },
  {
   "cell_type": "code",
   "execution_count": 141,
   "id": "c1cf8d00-92a3-4b62-bca4-d854b72574d1",
   "metadata": {
    "tags": []
   },
   "outputs": [
    {
     "name": "stdout",
     "output_type": "stream",
     "text": [
      "Random Forest метрики:\n",
      "ROC AUC: 0.86\n",
      "Accuracy: 0.80\n",
      "Precision: 1.00\n",
      "Recall: 0.71\n",
      "\n",
      "Gradient Boosting метрики:\n",
      "ROC AUC: 0.93\n",
      "Accuracy: 0.90\n",
      "Precision: 1.00\n",
      "Recall: 0.86\n"
     ]
    }
   ],
   "source": [
    "# Обучение Random Forest\n",
    "rf_model = RandomForestClassifier(\n",
    "    n_estimators=200,  \n",
    "    random_state=256,\n",
    "    max_depth=25,\n",
    "    min_samples_split=5,  \n",
    "    min_samples_leaf=3,  \n",
    "    max_features=15,  \n",
    "    bootstrap=True  \n",
    ")\n",
    "rf_model.fit(X_train, y_train)\n",
    "\n",
    "# Прогноз на тестовых данных\n",
    "rf_pred = rf_model.predict(X_test)\n",
    "\n",
    "# Расчет метрик для Random Forest\n",
    "rf_roc_auc = roc_auc_score(y_test, rf_pred)\n",
    "rf_accuracy = accuracy_score(y_test, rf_pred)\n",
    "rf_precision = precision_score(y_test, rf_pred)\n",
    "rf_recall = recall_score(y_test, rf_pred)\n",
    "\n",
    "print(\"Random Forest метрики:\")\n",
    "print(f\"ROC AUC: {rf_roc_auc:.2f}\")\n",
    "print(f\"Accuracy: {rf_accuracy:.2f}\")\n",
    "print(f\"Precision: {rf_precision:.2f}\")\n",
    "print(f\"Recall: {rf_recall:.2f}\")\n",
    "\n",
    "# Обучение Gradient Boosting\n",
    "gb_model = GradientBoostingClassifier(n_estimators=100, random_state=42)\n",
    "gb_model.fit(X_train, y_train)\n",
    "\n",
    "# Прогноз на тестовых данных\n",
    "gb_pred = gb_model.predict(X_test)\n",
    "\n",
    "# Расчет метрик для Gradient Boosting\n",
    "gb_roc_auc = roc_auc_score(y_test, gb_pred)\n",
    "gb_accuracy = accuracy_score(y_test, gb_pred)\n",
    "gb_precision = precision_score(y_test, gb_pred)\n",
    "gb_recall = recall_score(y_test, gb_pred)\n",
    "\n",
    "print(\"\\nGradient Boosting метрики:\")\n",
    "print(f\"ROC AUC: {gb_roc_auc:.2f}\")\n",
    "print(f\"Accuracy: {gb_accuracy:.2f}\")\n",
    "print(f\"Precision: {gb_precision:.2f}\")\n",
    "print(f\"Recall: {gb_recall:.2f}\")"
   ]
  },
  {
   "cell_type": "code",
   "execution_count": 135,
   "id": "ae1e040c-ddd0-4952-9dcb-58c1226da40a",
   "metadata": {
    "tags": []
   },
   "outputs": [
    {
     "name": "stdout",
     "output_type": "stream",
     "text": [
      "\n",
      "MLP (Neural Network) метрики:\n",
      "ROC AUC: 0.86\n",
      "Accuracy: 0.80\n",
      "Precision: 1.00\n",
      "Recall: 0.71\n"
     ]
    }
   ],
   "source": [
    "# Обучение MLP (Multi-Layer Perceptron) нейронной сети\n",
    "mlp_model = MLPClassifier(hidden_layer_sizes=(30,), max_iter=500, random_state=42)\n",
    "mlp_model.fit(X_train, y_train)\n",
    "\n",
    "# Прогноз на тестовых данных\n",
    "mlp_pred = mlp_model.predict(X_test)\n",
    "\n",
    "# Расчет метрик для MLP нейронной сети\n",
    "mlp_roc_auc = roc_auc_score(y_test, mlp_pred)\n",
    "mlp_accuracy = accuracy_score(y_test, mlp_pred)\n",
    "mlp_precision = precision_score(y_test, mlp_pred)\n",
    "mlp_recall = recall_score(y_test, mlp_pred)\n",
    "\n",
    "print(\"\\nMLP (Neural Network) метрики:\")\n",
    "print(f\"ROC AUC: {mlp_roc_auc:.2f}\")\n",
    "print(f\"Accuracy: {mlp_accuracy:.2f}\")\n",
    "print(f\"Precision: {mlp_precision:.2f}\")\n",
    "print(f\"Recall: {mlp_recall:.2f}\")"
   ]
  },
  {
   "cell_type": "markdown",
   "id": "d2d6eb00-77fd-40dc-a3c5-35c1fe0200c0",
   "metadata": {},
   "source": [
    "## Экспериментируйте\n",
    "Для получения лучшего качества придется поэкспериментировать. Подсказка: попробуйте оптимизировать гиперпараметры модели"
   ]
  }
 ],
 "metadata": {
  "kernelspec": {
   "display_name": "Python 3 (ipykernel)",
   "language": "python",
   "name": "python3"
  },
  "language_info": {
   "codemirror_mode": {
    "name": "ipython",
    "version": 3
   },
   "file_extension": ".py",
   "mimetype": "text/x-python",
   "name": "python",
   "nbconvert_exporter": "python",
   "pygments_lexer": "ipython3",
   "version": "3.11.5"
  }
 },
 "nbformat": 4,
 "nbformat_minor": 5
}
